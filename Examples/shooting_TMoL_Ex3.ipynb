{
 "cells": [
  {
   "cell_type": "markdown",
   "metadata": {},
   "source": [
    "# SOIL PARAMETER SETTING"
   ]
  },
  {
   "cell_type": "code",
   "execution_count": 1,
   "metadata": {},
   "outputs": [
    {
     "name": "stdout",
     "output_type": "stream",
     "text": [
      "         Parameters    Values\n",
      "theta_r        0.00  cm3*cm-3\n",
      "theta_S        0.48  cm3*cm-3\n",
      "K_S          175.40      cm/d\n",
      "Z             25.00        cm\n",
      "lambda         0.10      cm-1\n"
     ]
    }
   ],
   "source": [
    "import sys\n",
    "sys.path.append('C:/Users/fdifonzo/Google Drive/Ricerca/Lavori conclusi/BerardiDifonzoMasciopintoVurro-1/new submission/pythonCode')\n",
    "\n",
    "import matplotlib.pyplot as plt\n",
    "import pandas as pd\n",
    "from numpy import array\n",
    "\n",
    "from Config.SoilParameters import SoilParameters\n",
    "from Config.select_uptake_type import *\n",
    "from Core.ShootingSol import *\n",
    "\n",
    "lambda_ = 0.1  # set by user\n",
    "soil_index = 1  # set by user: see Config.SoilParameters.py\n",
    "active_uptake = True  # set by user: see Config.uptake_R.py\n",
    "uptake_type = select_uptake_type(1)  # set by user: se Config.select_uptake_type.py\n",
    "\n",
    "soil_parameters = SoilParameters()\n",
    "soil_parameters.get_soil_parameters(soil_index, active_uptake, uptake_type)\n",
    "Z = soil_parameters.Z\n",
    "\n",
    "df = pd.DataFrame([(soil_parameters.theta_r, 'cm3*cm-3'),\n",
    "                   (soil_parameters.theta_S, 'cm3*cm-3'),\n",
    "                   (soil_parameters.K_S, 'cm/d'),\n",
    "                   (Z, 'cm'),\n",
    "                   (soil_parameters.lambda_, 'cm-1')],\n",
    "                  index=['theta_r', 'theta_S', 'K_S', 'Z', 'lambda'],\n",
    "                  columns=('Parameters', 'Values'))\n",
    "print(df)"
   ]
  },
  {
   "cell_type": "markdown",
   "metadata": {},
   "source": [
    "# INTEGRATION PARAMETER SETTING"
   ]
  },
  {
   "cell_type": "code",
   "execution_count": 2,
   "metadata": {},
   "outputs": [],
   "source": [
    "T = 3  # set by user\n",
    "Nt = 80  # set by user\n",
    "Nz = 150  # set by user\n",
    "tol = 1e-6  # set by user\n",
    "bc_type = 'Ex3'  # set by user: see Config.boundary_condition_setter.py\n",
    "\n",
    "dt = T / Nt\n",
    "dz = Z / Nz"
   ]
  },
  {
   "cell_type": "markdown",
   "metadata": {},
   "source": [
    "# NUMERICAL OUTCOMES"
   ]
  },
  {
   "cell_type": "code",
   "execution_count": 3,
   "metadata": {},
   "outputs": [],
   "source": [
    "shooting_solution = ShootingSol(dt, dz, array([0, T]), array([0, Z]), tol)\n",
    "\n",
    "shooting_solution.shooting_method(soil_parameters, active_uptake, uptake_type, bc_type)"
   ]
  },
  {
   "cell_type": "markdown",
   "metadata": {},
   "source": [
    "## GRAPHICAL RESULTS "
   ]
  },
  {
   "cell_type": "code",
   "execution_count": 4,
   "metadata": {},
   "outputs": [
    {
     "data": {
      "image/png": "[encoded data removed]",
      "text/plain": [
       "<Figure size 432x288 with 1 Axes>"
      ]
     },
     "metadata": {
      "needs_background": "light"
     },
     "output_type": "display_data"
    }
   ],
   "source": [
    "plt.contourf(shooting_solution.z_sol, shooting_solution.t_sol, shooting_solution.f_sol)\n",
    "\n",
    "plt.show()"
   ]
  }
 ],
 "metadata": {
  "kernelspec": {
   "display_name": "Python 3",
   "language": "python",
   "name": "python3"
  },
  "language_info": {
   "codemirror_mode": {
    "name": "ipython",
    "version": 3
   },
   "file_extension": ".py",
   "mimetype": "text/x-python",
   "name": "python",
   "nbconvert_exporter": "python",
   "pygments_lexer": "ipython3",
   "version": "3.7.6"
  }
 },
 "nbformat": 4,
 "nbformat_minor": 2
}
